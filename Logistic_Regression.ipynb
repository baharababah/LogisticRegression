{
  "nbformat": 4,
  "nbformat_minor": 0,
  "metadata": {
    "colab": {
      "name": "Logistic Regression.ipynb",
      "provenance": [],
      "authorship_tag": "ABX9TyO2yAIVwPmEVoQFdnMVZlpD",
      "include_colab_link": true
    },
    "kernelspec": {
      "name": "python3",
      "display_name": "Python 3"
    }
  },
  "cells": [
    {
      "cell_type": "markdown",
      "metadata": {
        "id": "view-in-github",
        "colab_type": "text"
      },
      "source": [
        "<a href=\"https://colab.research.google.com/github/baharababah/LogisticRegression/blob/main/Logistic_Regression.ipynb\" target=\"_parent\"><img src=\"https://colab.research.google.com/assets/colab-badge.svg\" alt=\"Open In Colab\"/></a>"
      ]
    },
    {
      "cell_type": "code",
      "metadata": {
        "id": "fCXZ8SUUBOwl",
        "colab": {
          "base_uri": "https://localhost:8080/",
          "height": 225
        },
        "outputId": "9def21a9-9679-4920-cc06-2de88fda1700"
      },
      "source": [
        "# ------------------------------------------------------------------\r\n",
        "# Build the Logistic Regression Model\r\n",
        "# Predict heart disease  based on \r\n",
        "# age \tsex \tcp \ttrestbps \tchol \tfbs \trestecg \tthalach \texang \toldpeak \tslope \tca \tthal\r\n",
        "# ------------------------------------------------------------------\r\n",
        "#https://www.kaggle.com/ronitf/heart-disease-uci\r\n",
        "#\r\n",
        "# Import Libraries\r\n",
        "from google.colab import drive \r\n",
        "drive.mount('/content/drive/')\r\n",
        "import pandas as pd\r\n",
        "# Read the data and Create a copy\r\n",
        "HearData = pd.read_csv(\"/content/drive/My Drive/Heart.csv\")\r\n",
        "HeartPrep = HeartData.copy()\r\n",
        "HeartPrep.head()"
      ],
      "execution_count": 61,
      "outputs": [
        {
          "output_type": "stream",
          "text": [
            "Drive already mounted at /content/drive/; to attempt to forcibly remount, call drive.mount(\"/content/drive/\", force_remount=True).\n"
          ],
          "name": "stdout"
        },
        {
          "output_type": "execute_result",
          "data": {
            "text/html": [
              "<div>\n",
              "<style scoped>\n",
              "    .dataframe tbody tr th:only-of-type {\n",
              "        vertical-align: middle;\n",
              "    }\n",
              "\n",
              "    .dataframe tbody tr th {\n",
              "        vertical-align: top;\n",
              "    }\n",
              "\n",
              "    .dataframe thead th {\n",
              "        text-align: right;\n",
              "    }\n",
              "</style>\n",
              "<table border=\"1\" class=\"dataframe\">\n",
              "  <thead>\n",
              "    <tr style=\"text-align: right;\">\n",
              "      <th></th>\n",
              "      <th>age</th>\n",
              "      <th>sex</th>\n",
              "      <th>cp</th>\n",
              "      <th>trestbps</th>\n",
              "      <th>chol</th>\n",
              "      <th>fbs</th>\n",
              "      <th>restecg</th>\n",
              "      <th>thalach</th>\n",
              "      <th>exang</th>\n",
              "      <th>oldpeak</th>\n",
              "      <th>slope</th>\n",
              "      <th>ca</th>\n",
              "      <th>thal</th>\n",
              "      <th>target</th>\n",
              "    </tr>\n",
              "  </thead>\n",
              "  <tbody>\n",
              "    <tr>\n",
              "      <th>0</th>\n",
              "      <td>63</td>\n",
              "      <td>1</td>\n",
              "      <td>3</td>\n",
              "      <td>145</td>\n",
              "      <td>233</td>\n",
              "      <td>1</td>\n",
              "      <td>0</td>\n",
              "      <td>150</td>\n",
              "      <td>0</td>\n",
              "      <td>2.3</td>\n",
              "      <td>0</td>\n",
              "      <td>0</td>\n",
              "      <td>1</td>\n",
              "      <td>1</td>\n",
              "    </tr>\n",
              "    <tr>\n",
              "      <th>1</th>\n",
              "      <td>37</td>\n",
              "      <td>1</td>\n",
              "      <td>2</td>\n",
              "      <td>130</td>\n",
              "      <td>250</td>\n",
              "      <td>0</td>\n",
              "      <td>1</td>\n",
              "      <td>187</td>\n",
              "      <td>0</td>\n",
              "      <td>3.5</td>\n",
              "      <td>0</td>\n",
              "      <td>0</td>\n",
              "      <td>2</td>\n",
              "      <td>1</td>\n",
              "    </tr>\n",
              "    <tr>\n",
              "      <th>2</th>\n",
              "      <td>41</td>\n",
              "      <td>0</td>\n",
              "      <td>1</td>\n",
              "      <td>130</td>\n",
              "      <td>204</td>\n",
              "      <td>0</td>\n",
              "      <td>0</td>\n",
              "      <td>172</td>\n",
              "      <td>0</td>\n",
              "      <td>1.4</td>\n",
              "      <td>2</td>\n",
              "      <td>0</td>\n",
              "      <td>2</td>\n",
              "      <td>1</td>\n",
              "    </tr>\n",
              "    <tr>\n",
              "      <th>3</th>\n",
              "      <td>56</td>\n",
              "      <td>1</td>\n",
              "      <td>1</td>\n",
              "      <td>120</td>\n",
              "      <td>236</td>\n",
              "      <td>0</td>\n",
              "      <td>1</td>\n",
              "      <td>178</td>\n",
              "      <td>0</td>\n",
              "      <td>0.8</td>\n",
              "      <td>2</td>\n",
              "      <td>0</td>\n",
              "      <td>2</td>\n",
              "      <td>1</td>\n",
              "    </tr>\n",
              "    <tr>\n",
              "      <th>4</th>\n",
              "      <td>57</td>\n",
              "      <td>0</td>\n",
              "      <td>0</td>\n",
              "      <td>120</td>\n",
              "      <td>354</td>\n",
              "      <td>0</td>\n",
              "      <td>1</td>\n",
              "      <td>163</td>\n",
              "      <td>1</td>\n",
              "      <td>0.6</td>\n",
              "      <td>2</td>\n",
              "      <td>0</td>\n",
              "      <td>2</td>\n",
              "      <td>1</td>\n",
              "    </tr>\n",
              "  </tbody>\n",
              "</table>\n",
              "</div>"
            ],
            "text/plain": [
              "   age  sex  cp  trestbps  chol  fbs  restecg  thalach  exang  oldpeak  slope  \\\n",
              "0   63    1   3       145   233    1        0      150      0      2.3      0   \n",
              "1   37    1   2       130   250    0        1      187      0      3.5      0   \n",
              "2   41    0   1       130   204    0        0      172      0      1.4      2   \n",
              "3   56    1   1       120   236    0        1      178      0      0.8      2   \n",
              "4   57    0   0       120   354    0        1      163      1      0.6      2   \n",
              "\n",
              "   ca  thal  target  \n",
              "0   0     1       1  \n",
              "1   0     2       1  \n",
              "2   0     2       1  \n",
              "3   0     2       1  \n",
              "4   0     2       1  "
            ]
          },
          "metadata": {
            "tags": []
          },
          "execution_count": 61
        }
      ]
    },
    {
      "cell_type": "code",
      "metadata": {
        "colab": {
          "base_uri": "https://localhost:8080/"
        },
        "id": "gfL1WjFPB8qh",
        "outputId": "aa7d1dad-ef02-44b9-d28f-d01703a5b863"
      },
      "source": [
        "# Find out columns with missing values\r\n",
        "HeartPrep.isnull().sum(axis=0)"
      ],
      "execution_count": 62,
      "outputs": [
        {
          "output_type": "execute_result",
          "data": {
            "text/plain": [
              "age         0\n",
              "sex         0\n",
              "cp          0\n",
              "trestbps    0\n",
              "chol        0\n",
              "fbs         0\n",
              "restecg     0\n",
              "thalach     0\n",
              "exang       0\n",
              "oldpeak     0\n",
              "slope       0\n",
              "ca          0\n",
              "thal        0\n",
              "target      0\n",
              "dtype: int64"
            ]
          },
          "metadata": {
            "tags": []
          },
          "execution_count": 62
        }
      ]
    },
    {
      "cell_type": "code",
      "metadata": {
        "colab": {
          "base_uri": "https://localhost:8080/"
        },
        "id": "OIzbONxtCC77",
        "outputId": "ba1e4563-f7b6-4625-f4c6-7af1c4f70a5d"
      },
      "source": [
        "# Show data types\r\n",
        "HeartPrep.dtypes"
      ],
      "execution_count": 63,
      "outputs": [
        {
          "output_type": "execute_result",
          "data": {
            "text/plain": [
              "age           int64\n",
              "sex           int64\n",
              "cp            int64\n",
              "trestbps      int64\n",
              "chol          int64\n",
              "fbs           int64\n",
              "restecg       int64\n",
              "thalach       int64\n",
              "exang         int64\n",
              "oldpeak     float64\n",
              "slope         int64\n",
              "ca            int64\n",
              "thal          int64\n",
              "target        int64\n",
              "dtype: object"
            ]
          },
          "metadata": {
            "tags": []
          },
          "execution_count": 63
        }
      ]
    },
    {
      "cell_type": "code",
      "metadata": {
        "colab": {
          "base_uri": "https://localhost:8080/",
          "height": 318
        },
        "id": "bpzgxKIjXB80",
        "outputId": "2d844b22-b54d-4d17-934b-1903127e1688"
      },
      "source": [
        "# Create pandas histogram to check the numbers of patients with heart disease vs no heart disease\r\n",
        "HeartPrep.hist(column= 'target', rwidth = 0.9)"
      ],
      "execution_count": 64,
      "outputs": [
        {
          "output_type": "execute_result",
          "data": {
            "text/plain": [
              "array([[<matplotlib.axes._subplots.AxesSubplot object at 0x7f7abd7a9c50>]],\n",
              "      dtype=object)"
            ]
          },
          "metadata": {
            "tags": []
          },
          "execution_count": 64
        },
        {
          "output_type": "display_data",
          "data": {
            "image/png": "[encoded data removed]",
            "text/plain": [
              "<Figure size 432x288 with 1 Axes>"
            ]
          },
          "metadata": {
            "tags": [],
            "needs_background": "light"
          }
        }
      ]
    },
    {
      "cell_type": "code",
      "metadata": {
        "colab": {
          "base_uri": "https://localhost:8080/"
        },
        "id": "YE_vF0OJYRG4",
        "outputId": "30cb4c65-05f1-4519-e476-7779a0aea96a"
      },
      "source": [
        "# ------------------------------------------------------\r\n",
        "# Step 4 - Check Multiple Linear Regression Assumptions\r\n",
        "# ------------------------------------------------------\r\n",
        "# Linearity using correlation coefficient matrix using corr\r\n",
        "# age \tsex \tcp \ttrestbps \tchol \tfbs \trestecg \tthalach \texang \toldpeak \tslope \tca \tthal \ttarget\r\n",
        "pd.options.display.max_columns = None\r\n",
        "correlation = HeartPrep[['age', 'sex', 'cp', 'trestbps', 'chol', 'fbs', 'restecg', 'thalach', 'oldpeak','slope', 'ca', 'thal', 'target']].corr()\r\n",
        "print(correlation)"
      ],
      "execution_count": 65,
      "outputs": [
        {
          "output_type": "stream",
          "text": [
            "               age       sex        cp  trestbps      chol       fbs  \\\n",
            "age       1.000000 -0.098447 -0.068653  0.279351  0.213678  0.121308   \n",
            "sex      -0.098447  1.000000 -0.049353 -0.056769 -0.197912  0.045032   \n",
            "cp       -0.068653 -0.049353  1.000000  0.047608 -0.076904  0.094444   \n",
            "trestbps  0.279351 -0.056769  0.047608  1.000000  0.123174  0.177531   \n",
            "chol      0.213678 -0.197912 -0.076904  0.123174  1.000000  0.013294   \n",
            "fbs       0.121308  0.045032  0.094444  0.177531  0.013294  1.000000   \n",
            "restecg  -0.116211 -0.058196  0.044421 -0.114103 -0.151040 -0.084189   \n",
            "thalach  -0.398522 -0.044020  0.295762 -0.046698 -0.009940 -0.008567   \n",
            "oldpeak   0.210013  0.096093 -0.149230  0.193216  0.053952  0.005747   \n",
            "slope    -0.168814 -0.030711  0.119717 -0.121475 -0.004038 -0.059894   \n",
            "ca        0.276326  0.118261 -0.181053  0.101389  0.070511  0.137979   \n",
            "thal      0.068001  0.210041 -0.161736  0.062210  0.098803 -0.032019   \n",
            "target   -0.225439 -0.280937  0.433798 -0.144931 -0.085239 -0.028046   \n",
            "\n",
            "           restecg   thalach   oldpeak     slope        ca      thal    target  \n",
            "age      -0.116211 -0.398522  0.210013 -0.168814  0.276326  0.068001 -0.225439  \n",
            "sex      -0.058196 -0.044020  0.096093 -0.030711  0.118261  0.210041 -0.280937  \n",
            "cp        0.044421  0.295762 -0.149230  0.119717 -0.181053 -0.161736  0.433798  \n",
            "trestbps -0.114103 -0.046698  0.193216 -0.121475  0.101389  0.062210 -0.144931  \n",
            "chol     -0.151040 -0.009940  0.053952 -0.004038  0.070511  0.098803 -0.085239  \n",
            "fbs      -0.084189 -0.008567  0.005747 -0.059894  0.137979 -0.032019 -0.028046  \n",
            "restecg   1.000000  0.044123 -0.058770  0.093045 -0.072042 -0.011981  0.137230  \n",
            "thalach   0.044123  1.000000 -0.344187  0.386784 -0.213177 -0.096439  0.421741  \n",
            "oldpeak  -0.058770 -0.344187  1.000000 -0.577537  0.222682  0.210244 -0.430696  \n",
            "slope     0.093045  0.386784 -0.577537  1.000000 -0.080155 -0.104764  0.345877  \n",
            "ca       -0.072042 -0.213177  0.222682 -0.080155  1.000000  0.151832 -0.391724  \n",
            "thal     -0.011981 -0.096439  0.210244 -0.104764  0.151832  1.000000 -0.344029  \n",
            "target    0.137230  0.421741 -0.430696  0.345877 -0.391724 -0.344029  1.000000  \n"
          ],
          "name": "stdout"
        }
      ]
    },
    {
      "cell_type": "markdown",
      "metadata": {
        "id": "s5FZshNUbVhn"
      },
      "source": [
        "drop chol, fbs, restecg, and trestbps"
      ]
    },
    {
      "cell_type": "code",
      "metadata": {
        "colab": {
          "base_uri": "https://localhost:8080/",
          "height": 206
        },
        "id": "hyLWY8NbcM5q",
        "outputId": "649de12c-b654-4212-8129-e4bf1048be94"
      },
      "source": [
        "# Step 5 - Drop irrelevant features\r\n",
        "HeartPrep = HeartPrep.drop(['chol', 'fbs', 'restecg', 'trestbps'], axis=1)\r\n",
        "HeartPrep.head()"
      ],
      "execution_count": 66,
      "outputs": [
        {
          "output_type": "execute_result",
          "data": {
            "text/html": [
              "<div>\n",
              "<style scoped>\n",
              "    .dataframe tbody tr th:only-of-type {\n",
              "        vertical-align: middle;\n",
              "    }\n",
              "\n",
              "    .dataframe tbody tr th {\n",
              "        vertical-align: top;\n",
              "    }\n",
              "\n",
              "    .dataframe thead th {\n",
              "        text-align: right;\n",
              "    }\n",
              "</style>\n",
              "<table border=\"1\" class=\"dataframe\">\n",
              "  <thead>\n",
              "    <tr style=\"text-align: right;\">\n",
              "      <th></th>\n",
              "      <th>age</th>\n",
              "      <th>sex</th>\n",
              "      <th>cp</th>\n",
              "      <th>thalach</th>\n",
              "      <th>exang</th>\n",
              "      <th>oldpeak</th>\n",
              "      <th>slope</th>\n",
              "      <th>ca</th>\n",
              "      <th>thal</th>\n",
              "      <th>target</th>\n",
              "    </tr>\n",
              "  </thead>\n",
              "  <tbody>\n",
              "    <tr>\n",
              "      <th>0</th>\n",
              "      <td>63</td>\n",
              "      <td>1</td>\n",
              "      <td>3</td>\n",
              "      <td>150</td>\n",
              "      <td>0</td>\n",
              "      <td>2.3</td>\n",
              "      <td>0</td>\n",
              "      <td>0</td>\n",
              "      <td>1</td>\n",
              "      <td>1</td>\n",
              "    </tr>\n",
              "    <tr>\n",
              "      <th>1</th>\n",
              "      <td>37</td>\n",
              "      <td>1</td>\n",
              "      <td>2</td>\n",
              "      <td>187</td>\n",
              "      <td>0</td>\n",
              "      <td>3.5</td>\n",
              "      <td>0</td>\n",
              "      <td>0</td>\n",
              "      <td>2</td>\n",
              "      <td>1</td>\n",
              "    </tr>\n",
              "    <tr>\n",
              "      <th>2</th>\n",
              "      <td>41</td>\n",
              "      <td>0</td>\n",
              "      <td>1</td>\n",
              "      <td>172</td>\n",
              "      <td>0</td>\n",
              "      <td>1.4</td>\n",
              "      <td>2</td>\n",
              "      <td>0</td>\n",
              "      <td>2</td>\n",
              "      <td>1</td>\n",
              "    </tr>\n",
              "    <tr>\n",
              "      <th>3</th>\n",
              "      <td>56</td>\n",
              "      <td>1</td>\n",
              "      <td>1</td>\n",
              "      <td>178</td>\n",
              "      <td>0</td>\n",
              "      <td>0.8</td>\n",
              "      <td>2</td>\n",
              "      <td>0</td>\n",
              "      <td>2</td>\n",
              "      <td>1</td>\n",
              "    </tr>\n",
              "    <tr>\n",
              "      <th>4</th>\n",
              "      <td>57</td>\n",
              "      <td>0</td>\n",
              "      <td>0</td>\n",
              "      <td>163</td>\n",
              "      <td>1</td>\n",
              "      <td>0.6</td>\n",
              "      <td>2</td>\n",
              "      <td>0</td>\n",
              "      <td>2</td>\n",
              "      <td>1</td>\n",
              "    </tr>\n",
              "  </tbody>\n",
              "</table>\n",
              "</div>"
            ],
            "text/plain": [
              "   age  sex  cp  thalach  exang  oldpeak  slope  ca  thal  target\n",
              "0   63    1   3      150      0      2.3      0   0     1       1\n",
              "1   37    1   2      187      0      3.5      0   0     2       1\n",
              "2   41    0   1      172      0      1.4      2   0     2       1\n",
              "3   56    1   1      178      0      0.8      2   0     2       1\n",
              "4   57    0   0      163      1      0.6      2   0     2       1"
            ]
          },
          "metadata": {
            "tags": []
          },
          "execution_count": 66
        }
      ]
    },
    {
      "cell_type": "code",
      "metadata": {
        "colab": {
          "base_uri": "https://localhost:8080/",
          "height": 206
        },
        "id": "2oyt4YYOCnRR",
        "outputId": "e62aef1b-798a-4bae-a8a0-839df81bd264"
      },
      "source": [
        "# Create Dummy variables\r\n",
        "HeartPrep = pd.get_dummies(HeartPrep, drop_first=True)\r\n",
        "HeartPrep.head()"
      ],
      "execution_count": 67,
      "outputs": [
        {
          "output_type": "execute_result",
          "data": {
            "text/html": [
              "<div>\n",
              "<style scoped>\n",
              "    .dataframe tbody tr th:only-of-type {\n",
              "        vertical-align: middle;\n",
              "    }\n",
              "\n",
              "    .dataframe tbody tr th {\n",
              "        vertical-align: top;\n",
              "    }\n",
              "\n",
              "    .dataframe thead th {\n",
              "        text-align: right;\n",
              "    }\n",
              "</style>\n",
              "<table border=\"1\" class=\"dataframe\">\n",
              "  <thead>\n",
              "    <tr style=\"text-align: right;\">\n",
              "      <th></th>\n",
              "      <th>age</th>\n",
              "      <th>sex</th>\n",
              "      <th>cp</th>\n",
              "      <th>thalach</th>\n",
              "      <th>exang</th>\n",
              "      <th>oldpeak</th>\n",
              "      <th>slope</th>\n",
              "      <th>ca</th>\n",
              "      <th>thal</th>\n",
              "      <th>target</th>\n",
              "    </tr>\n",
              "  </thead>\n",
              "  <tbody>\n",
              "    <tr>\n",
              "      <th>0</th>\n",
              "      <td>63</td>\n",
              "      <td>1</td>\n",
              "      <td>3</td>\n",
              "      <td>150</td>\n",
              "      <td>0</td>\n",
              "      <td>2.3</td>\n",
              "      <td>0</td>\n",
              "      <td>0</td>\n",
              "      <td>1</td>\n",
              "      <td>1</td>\n",
              "    </tr>\n",
              "    <tr>\n",
              "      <th>1</th>\n",
              "      <td>37</td>\n",
              "      <td>1</td>\n",
              "      <td>2</td>\n",
              "      <td>187</td>\n",
              "      <td>0</td>\n",
              "      <td>3.5</td>\n",
              "      <td>0</td>\n",
              "      <td>0</td>\n",
              "      <td>2</td>\n",
              "      <td>1</td>\n",
              "    </tr>\n",
              "    <tr>\n",
              "      <th>2</th>\n",
              "      <td>41</td>\n",
              "      <td>0</td>\n",
              "      <td>1</td>\n",
              "      <td>172</td>\n",
              "      <td>0</td>\n",
              "      <td>1.4</td>\n",
              "      <td>2</td>\n",
              "      <td>0</td>\n",
              "      <td>2</td>\n",
              "      <td>1</td>\n",
              "    </tr>\n",
              "    <tr>\n",
              "      <th>3</th>\n",
              "      <td>56</td>\n",
              "      <td>1</td>\n",
              "      <td>1</td>\n",
              "      <td>178</td>\n",
              "      <td>0</td>\n",
              "      <td>0.8</td>\n",
              "      <td>2</td>\n",
              "      <td>0</td>\n",
              "      <td>2</td>\n",
              "      <td>1</td>\n",
              "    </tr>\n",
              "    <tr>\n",
              "      <th>4</th>\n",
              "      <td>57</td>\n",
              "      <td>0</td>\n",
              "      <td>0</td>\n",
              "      <td>163</td>\n",
              "      <td>1</td>\n",
              "      <td>0.6</td>\n",
              "      <td>2</td>\n",
              "      <td>0</td>\n",
              "      <td>2</td>\n",
              "      <td>1</td>\n",
              "    </tr>\n",
              "  </tbody>\n",
              "</table>\n",
              "</div>"
            ],
            "text/plain": [
              "   age  sex  cp  thalach  exang  oldpeak  slope  ca  thal  target\n",
              "0   63    1   3      150      0      2.3      0   0     1       1\n",
              "1   37    1   2      187      0      3.5      0   0     2       1\n",
              "2   41    0   1      172      0      1.4      2   0     2       1\n",
              "3   56    1   1      178      0      0.8      2   0     2       1\n",
              "4   57    0   0      163      1      0.6      2   0     2       1"
            ]
          },
          "metadata": {
            "tags": []
          },
          "execution_count": 67
        }
      ]
    },
    {
      "cell_type": "code",
      "metadata": {
        "id": "TMj8qfj0Hs6F"
      },
      "source": [
        "# Normalize the data (Income and Loan Amount) Using StandardScaler\r\n",
        "from sklearn.preprocessing import StandardScaler\r\n",
        "scalar_ = StandardScaler()\r\n",
        "HeartPrep['age'] = scalar_.fit_transform(HeartPrep[['age']])\r\n",
        "HeartPrep['thalach'] = scalar_.fit_transform(HeartPrep[['thalach']])\r\n",
        "HeartPrep['oldpeak'] = scalar_.fit_transform(HeartPrep[['oldpeak']])"
      ],
      "execution_count": 68,
      "outputs": []
    },
    {
      "cell_type": "code",
      "metadata": {
        "colab": {
          "base_uri": "https://localhost:8080/",
          "height": 206
        },
        "id": "LfQRPXwpIXEH",
        "outputId": "76c03e24-7439-489c-86f2-d83cdc8c712d"
      },
      "source": [
        "HeartPrep.head()"
      ],
      "execution_count": 69,
      "outputs": [
        {
          "output_type": "execute_result",
          "data": {
            "text/html": [
              "<div>\n",
              "<style scoped>\n",
              "    .dataframe tbody tr th:only-of-type {\n",
              "        vertical-align: middle;\n",
              "    }\n",
              "\n",
              "    .dataframe tbody tr th {\n",
              "        vertical-align: top;\n",
              "    }\n",
              "\n",
              "    .dataframe thead th {\n",
              "        text-align: right;\n",
              "    }\n",
              "</style>\n",
              "<table border=\"1\" class=\"dataframe\">\n",
              "  <thead>\n",
              "    <tr style=\"text-align: right;\">\n",
              "      <th></th>\n",
              "      <th>age</th>\n",
              "      <th>sex</th>\n",
              "      <th>cp</th>\n",
              "      <th>thalach</th>\n",
              "      <th>exang</th>\n",
              "      <th>oldpeak</th>\n",
              "      <th>slope</th>\n",
              "      <th>ca</th>\n",
              "      <th>thal</th>\n",
              "      <th>target</th>\n",
              "    </tr>\n",
              "  </thead>\n",
              "  <tbody>\n",
              "    <tr>\n",
              "      <th>0</th>\n",
              "      <td>0.952197</td>\n",
              "      <td>1</td>\n",
              "      <td>3</td>\n",
              "      <td>0.015443</td>\n",
              "      <td>0</td>\n",
              "      <td>1.087338</td>\n",
              "      <td>0</td>\n",
              "      <td>0</td>\n",
              "      <td>1</td>\n",
              "      <td>1</td>\n",
              "    </tr>\n",
              "    <tr>\n",
              "      <th>1</th>\n",
              "      <td>-1.915313</td>\n",
              "      <td>1</td>\n",
              "      <td>2</td>\n",
              "      <td>1.633471</td>\n",
              "      <td>0</td>\n",
              "      <td>2.122573</td>\n",
              "      <td>0</td>\n",
              "      <td>0</td>\n",
              "      <td>2</td>\n",
              "      <td>1</td>\n",
              "    </tr>\n",
              "    <tr>\n",
              "      <th>2</th>\n",
              "      <td>-1.474158</td>\n",
              "      <td>0</td>\n",
              "      <td>1</td>\n",
              "      <td>0.977514</td>\n",
              "      <td>0</td>\n",
              "      <td>0.310912</td>\n",
              "      <td>2</td>\n",
              "      <td>0</td>\n",
              "      <td>2</td>\n",
              "      <td>1</td>\n",
              "    </tr>\n",
              "    <tr>\n",
              "      <th>3</th>\n",
              "      <td>0.180175</td>\n",
              "      <td>1</td>\n",
              "      <td>1</td>\n",
              "      <td>1.239897</td>\n",
              "      <td>0</td>\n",
              "      <td>-0.206705</td>\n",
              "      <td>2</td>\n",
              "      <td>0</td>\n",
              "      <td>2</td>\n",
              "      <td>1</td>\n",
              "    </tr>\n",
              "    <tr>\n",
              "      <th>4</th>\n",
              "      <td>0.290464</td>\n",
              "      <td>0</td>\n",
              "      <td>0</td>\n",
              "      <td>0.583939</td>\n",
              "      <td>1</td>\n",
              "      <td>-0.379244</td>\n",
              "      <td>2</td>\n",
              "      <td>0</td>\n",
              "      <td>2</td>\n",
              "      <td>1</td>\n",
              "    </tr>\n",
              "  </tbody>\n",
              "</table>\n",
              "</div>"
            ],
            "text/plain": [
              "        age  sex  cp   thalach  exang   oldpeak  slope  ca  thal  target\n",
              "0  0.952197    1   3  0.015443      0  1.087338      0   0     1       1\n",
              "1 -1.915313    1   2  1.633471      0  2.122573      0   0     2       1\n",
              "2 -1.474158    0   1  0.977514      0  0.310912      2   0     2       1\n",
              "3  0.180175    1   1  1.239897      0 -0.206705      2   0     2       1\n",
              "4  0.290464    0   0  0.583939      1 -0.379244      2   0     2       1"
            ]
          },
          "metadata": {
            "tags": []
          },
          "execution_count": 69
        }
      ]
    },
    {
      "cell_type": "code",
      "metadata": {
        "id": "KfDUUMfpNSo6"
      },
      "source": [
        "# Create the X (Independent) and Y (Dependent) dataframes\r\n",
        "# -------------------------------------------------------\r\n",
        "Y = HeartPrep[['target']]\r\n",
        "X = HeartPrep.drop(['target'], axis=1)"
      ],
      "execution_count": 70,
      "outputs": []
    },
    {
      "cell_type": "code",
      "metadata": {
        "id": "QA5Y1YuvCmPN",
        "colab": {
          "base_uri": "https://localhost:8080/"
        },
        "outputId": "3c821895-1ea2-4564-b89d-8e2d529b6214"
      },
      "source": [
        "# Split the X and Y dataset into training and testing set\r\n",
        "from sklearn.model_selection import train_test_split\r\n",
        "X_train, X_test, Y_train, Y_test = \\\r\n",
        "train_test_split(X, Y, test_size = 0.3, random_state = 1234, stratify=Y)\r\n",
        "\r\n",
        "# Build the Logistic Regression model\r\n",
        "from sklearn.linear_model import LogisticRegression\r\n",
        "lr = LogisticRegression()\r\n",
        "\r\n",
        "lr.fit(X_train, Y_train.values.ravel())\r\n",
        "\r\n",
        "# Predict the outcome using Test data\r\n",
        "Y_predict = lr.predict(X_test)\r\n",
        "\r\n",
        "# Build the conufsion matrix and get the accuracy/score\r\n",
        "from sklearn.metrics import confusion_matrix\r\n",
        "cm = confusion_matrix(Y_test, Y_predict)\r\n",
        "\r\n",
        "score = lr.score(X_test, Y_test)\r\n",
        "print(score)"
      ],
      "execution_count": 71,
      "outputs": [
        {
          "output_type": "stream",
          "text": [
            "0.8681318681318682\n"
          ],
          "name": "stdout"
        }
      ]
    }
  ]
}